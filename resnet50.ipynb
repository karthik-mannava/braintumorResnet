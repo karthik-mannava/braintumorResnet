{
  "nbformat": 4,
  "nbformat_minor": 0,
  "metadata": {
    "colab": {
      "provenance": [],
      "include_colab_link": true
    },
    "kernelspec": {
      "name": "python3",
      "display_name": "Python 3"
    },
    "language_info": {
      "name": "python"
    },
    "gpuClass": "standard",
    "accelerator": "GPU"
  },
  "cells": [
    {
      "cell_type": "markdown",
      "metadata": {
        "id": "view-in-github",
        "colab_type": "text"
      },
      "source": [
        "<a href=\"https://colab.research.google.com/github/karthik-mannava/braintumorResnet/blob/main/resnet50.ipynb\" target=\"_parent\"><img src=\"https://colab.research.google.com/assets/colab-badge.svg\" alt=\"Open In Colab\"/></a>"
      ]
    },
    {
      "cell_type": "code",
      "execution_count": 1,
      "metadata": {
        "colab": {
          "base_uri": "https://localhost:8080/"
        },
        "id": "8_bwHOkjvO5z",
        "outputId": "db0ecaff-4bf0-4b33-de0a-13f537852651"
      },
      "outputs": [
        {
          "output_type": "stream",
          "name": "stdout",
          "text": [
            "Mounted at /content/gdrive\n"
          ]
        }
      ],
      "source": [
        "from google.colab import drive\n",
        "drive.mount('/content/gdrive')"
      ]
    },
    {
      "cell_type": "code",
      "source": [
        "!pip install torchnet"
      ],
      "metadata": {
        "colab": {
          "base_uri": "https://localhost:8080/"
        },
        "id": "hdi17yxVvN6M",
        "outputId": "26b56d13-c6e9-4ff5-a3bd-532e1bebbd55"
      },
      "execution_count": 2,
      "outputs": [
        {
          "output_type": "stream",
          "name": "stdout",
          "text": [
            "Looking in indexes: https://pypi.org/simple, https://us-python.pkg.dev/colab-wheels/public/simple/\n",
            "Collecting torchnet\n",
            "  Downloading torchnet-0.0.4.tar.gz (23 kB)\n",
            "  Preparing metadata (setup.py) ... \u001b[?25l\u001b[?25hdone\n",
            "Requirement already satisfied: torch in /usr/local/lib/python3.9/dist-packages (from torchnet) (2.0.0+cu118)\n",
            "Requirement already satisfied: six in /usr/local/lib/python3.9/dist-packages (from torchnet) (1.16.0)\n",
            "Collecting visdom\n",
            "  Downloading visdom-0.2.4.tar.gz (1.4 MB)\n",
            "\u001b[2K     \u001b[90m━━━━━━━━━━━━━━━━━━━━━━━━━━━━━━━━━━━━━━━━\u001b[0m \u001b[32m1.4/1.4 MB\u001b[0m \u001b[31m25.5 MB/s\u001b[0m eta \u001b[36m0:00:00\u001b[0m\n",
            "\u001b[?25h  Preparing metadata (setup.py) ... \u001b[?25l\u001b[?25hdone\n",
            "Requirement already satisfied: sympy in /usr/local/lib/python3.9/dist-packages (from torch->torchnet) (1.11.1)\n",
            "Requirement already satisfied: triton==2.0.0 in /usr/local/lib/python3.9/dist-packages (from torch->torchnet) (2.0.0)\n",
            "Requirement already satisfied: jinja2 in /usr/local/lib/python3.9/dist-packages (from torch->torchnet) (3.1.2)\n",
            "Requirement already satisfied: filelock in /usr/local/lib/python3.9/dist-packages (from torch->torchnet) (3.11.0)\n",
            "Requirement already satisfied: typing-extensions in /usr/local/lib/python3.9/dist-packages (from torch->torchnet) (4.5.0)\n",
            "Requirement already satisfied: networkx in /usr/local/lib/python3.9/dist-packages (from torch->torchnet) (3.1)\n",
            "Requirement already satisfied: lit in /usr/local/lib/python3.9/dist-packages (from triton==2.0.0->torch->torchnet) (16.0.1)\n",
            "Requirement already satisfied: cmake in /usr/local/lib/python3.9/dist-packages (from triton==2.0.0->torch->torchnet) (3.25.2)\n",
            "Requirement already satisfied: numpy>=1.8 in /usr/local/lib/python3.9/dist-packages (from visdom->torchnet) (1.22.4)\n",
            "Requirement already satisfied: scipy in /usr/local/lib/python3.9/dist-packages (from visdom->torchnet) (1.10.1)\n",
            "Requirement already satisfied: requests in /usr/local/lib/python3.9/dist-packages (from visdom->torchnet) (2.27.1)\n",
            "Requirement already satisfied: tornado in /usr/local/lib/python3.9/dist-packages (from visdom->torchnet) (6.2)\n",
            "Collecting jsonpatch\n",
            "  Downloading jsonpatch-1.32-py2.py3-none-any.whl (12 kB)\n",
            "Requirement already satisfied: websocket-client in /usr/local/lib/python3.9/dist-packages (from visdom->torchnet) (1.5.1)\n",
            "Requirement already satisfied: pillow in /usr/local/lib/python3.9/dist-packages (from visdom->torchnet) (8.4.0)\n",
            "Requirement already satisfied: MarkupSafe>=2.0 in /usr/local/lib/python3.9/dist-packages (from jinja2->torch->torchnet) (2.1.2)\n",
            "Collecting jsonpointer>=1.9\n",
            "  Downloading jsonpointer-2.3-py2.py3-none-any.whl (7.8 kB)\n",
            "Requirement already satisfied: urllib3<1.27,>=1.21.1 in /usr/local/lib/python3.9/dist-packages (from requests->visdom->torchnet) (1.26.15)\n",
            "Requirement already satisfied: charset-normalizer~=2.0.0 in /usr/local/lib/python3.9/dist-packages (from requests->visdom->torchnet) (2.0.12)\n",
            "Requirement already satisfied: certifi>=2017.4.17 in /usr/local/lib/python3.9/dist-packages (from requests->visdom->torchnet) (2022.12.7)\n",
            "Requirement already satisfied: idna<4,>=2.5 in /usr/local/lib/python3.9/dist-packages (from requests->visdom->torchnet) (3.4)\n",
            "Requirement already satisfied: mpmath>=0.19 in /usr/local/lib/python3.9/dist-packages (from sympy->torch->torchnet) (1.3.0)\n",
            "Building wheels for collected packages: torchnet, visdom\n",
            "  Building wheel for torchnet (setup.py) ... \u001b[?25l\u001b[?25hdone\n",
            "  Created wheel for torchnet: filename=torchnet-0.0.4-py3-none-any.whl size=29745 sha256=549efa540696016ca57d5bee6401746713bafb3582331da8621de54a09becf70\n",
            "  Stored in directory: /root/.cache/pip/wheels/65/d2/1e/0c2519d1837089fe374a60ce10e120c555b9d77110a49f027f\n",
            "  Building wheel for visdom (setup.py) ... \u001b[?25l\u001b[?25hdone\n",
            "  Created wheel for visdom: filename=visdom-0.2.4-py3-none-any.whl size=1408216 sha256=4f2f58daa5e9285c5d02f2654c3dae587214c836afd5dc1012be6afd265258a1\n",
            "  Stored in directory: /root/.cache/pip/wheels/58/9e/14/30f7cc4dafdd4d602fb00ca33c6edd1424fc0f5df10a02e060\n",
            "Successfully built torchnet visdom\n",
            "Installing collected packages: jsonpointer, jsonpatch, visdom, torchnet\n",
            "Successfully installed jsonpatch-1.32 jsonpointer-2.3 torchnet-0.0.4 visdom-0.2.4\n"
          ]
        }
      ]
    },
    {
      "cell_type": "code",
      "source": [
        "import torch\n",
        "import torch.nn as nn\n",
        "import torch.optim as optim\n",
        "from torch.optim import lr_scheduler\n",
        "import numpy as np\n",
        "import torchvision\n",
        "from torchvision import datasets, models, transforms\n",
        "import matplotlib.pyplot as plt\n",
        "import time\n",
        "import os\n",
        "import copy\n",
        "import seaborn as sn\n",
        "import pandas as pd\n",
        "import torchnet.meter.confusionmeter as cm"
      ],
      "metadata": {
        "id": "Vkol_yjnv8JS"
      },
      "execution_count": 3,
      "outputs": []
    },
    {
      "cell_type": "code",
      "source": [
        "# Data augmentation and normalization for training\n",
        "# Just normalization for validation & test\n",
        "data_transforms = {\n",
        "    'Training': transforms.Compose([\n",
        "        transforms.RandomResizedCrop(224),\n",
        "        transforms.RandomHorizontalFlip(),\n",
        "        transforms.ToTensor(),\n",
        "        transforms.Normalize([0.485, 0.456, 0.406], [0.229, 0.224, 0.225])\n",
        "    ]),\n",
        "    'Validating': transforms.Compose([\n",
        "        transforms.Resize(224),\n",
        "        transforms.CenterCrop(224),\n",
        "        transforms.ToTensor(),\n",
        "        transforms.Normalize([0.485, 0.456, 0.406], [0.229, 0.224, 0.225])\n",
        "    ]),\n",
        "    'Testing': transforms.Compose([\n",
        "        transforms.Resize(224),\n",
        "        transforms.CenterCrop(224),\n",
        "        transforms.ToTensor(),\n",
        "        transforms.Normalize([0.485, 0.456, 0.406], [0.229, 0.224, 0.225])\n",
        "    ]),\n",
        "    'validation': transforms.Compose([\n",
        "        transforms.Resize(224),\n",
        "        transforms.CenterCrop(224) ,\n",
        "        transforms.ToTensor(),\n",
        "        transforms.Normalize([0.485], [0.229])\n",
        "    ])\n",
        "}\n"
      ],
      "metadata": {
        "id": "Bjb2muUiv-Km"
      },
      "execution_count": 4,
      "outputs": []
    },
    {
      "cell_type": "code",
      "source": [
        "data_dir = '/content/gdrive/MyDrive/Contrast_dataset_final-20230403T102414Z-001/Contrast_dataset_final'\n",
        "image_datasets = {x: datasets.ImageFolder(os.path.join(data_dir, x), data_transforms[x])\n",
        "                  for x in ['Testing','Training', 'Validating']}\n",
        "dataloaders = {x: torch.utils.data.DataLoader(image_datasets[x], batch_size=16,\n",
        "                                             shuffle=True, num_workers=2)\n",
        "              for x in ['Testing','Training', 'Validating']}\n",
        "dataset_sizes = {x: len(image_datasets[x]) for x in ['Testing','Training', 'Validating']}\n",
        "class_names = image_datasets['Training'].classes\n",
        "\n",
        "device = torch.device(\"cuda:0\" if torch.cuda.is_available() else \"cpu\")\n",
        "print(device)\n",
        "print(class_names)"
      ],
      "metadata": {
        "colab": {
          "base_uri": "https://localhost:8080/"
        },
        "id": "_7DyKuq6v___",
        "outputId": "44a5ac8d-d0a8-449a-c472-4cd7e9fdb42f"
      },
      "execution_count": 5,
      "outputs": [
        {
          "output_type": "stream",
          "name": "stdout",
          "text": [
            "cuda:0\n",
            "['glioma', 'meningioma', 'notumor', 'pituitory']\n"
          ]
        }
      ]
    },
    {
      "cell_type": "code",
      "source": [
        "#lists for graph generation\n",
        "epoch_counter_train = []\n",
        "epoch_counter_val = []\n",
        "train_loss = []\n",
        "val_loss = []\n",
        "train_acc = []\n",
        "val_acc = []\n",
        "\n",
        "#Train the model\n",
        "def train_model(model, criterion, optimizer, scheduler, num_epochs):\n",
        "    since = time.time()\n",
        "    print(since)\n",
        "    best_model_wts = copy.deepcopy(model.state_dict())\n",
        "    best_acc = 0.0\n",
        "    epoch_no = 0\n",
        "\n",
        "    for epoch in range(num_epochs):\n",
        "        print('Epoch {}/{}'.format(epoch + 1, num_epochs))\n",
        "        print('-' * 10)\n",
        "\n",
        "        # Each epoch has a training and validation phase\n",
        "        for phase in ['Training', 'Testing']:\n",
        "            if phase == 'Training':\n",
        "                # scheduler.step()\n",
        "                model.train()  # Set model to training mode\n",
        "            else:\n",
        "                model.eval()   # Set model to evaluate mode\n",
        "\n",
        "            running_loss = 0.0\n",
        "            running_corrects = 0\n",
        "\n",
        "            # Iterate over data.\n",
        "            for inputs, labels in dataloaders[phase]:\n",
        "                inputs = inputs.to(device)\n",
        "                labels = labels.to(device)\n",
        "\n",
        "                # zero the parameter gradients\n",
        "                optimizer.zero_grad()\n",
        "\n",
        "                # forward\n",
        "                # track history if only in train\n",
        "                with torch.set_grad_enabled(phase == 'Training'):  \n",
        "                    outputs = model(inputs)\n",
        "                    _, preds = torch.max(outputs, 1)\n",
        "                    probs = torch.exp(outputs) \n",
        "                    # print(probs)\n",
        "                    # print(_)\n",
        "                    # print(preds)\n",
        "                    loss = criterion(outputs, labels)\n",
        "\n",
        "                    # backward + optimize only if in training phase\n",
        "                    if phase == 'Training':\n",
        "                        loss.backward()\n",
        "                        optimizer.step()\n",
        "\n",
        "                # statistics \n",
        "                running_loss += loss.item() * inputs.size(0)\n",
        "                running_corrects += torch.sum(preds == labels.data)\n",
        "\n",
        "            #For graph generation\n",
        "            if phase == \"Training\":\n",
        "                train_loss.append(running_loss/dataset_sizes[phase])\n",
        "                train_acc.append(running_corrects.double() / dataset_sizes[phase])\n",
        "                epoch_counter_train.append(epoch)\n",
        "            if phase == \"Testing\":\n",
        "                val_loss.append(running_loss/ dataset_sizes[phase])\n",
        "                val_acc.append(running_corrects.double() / dataset_sizes[phase]) \n",
        "                epoch_counter_val.append(epoch)\n",
        "\n",
        "            epoch_loss = running_loss / dataset_sizes[phase]\n",
        "            epoch_acc = running_corrects.double() / dataset_sizes[phase]\n",
        "\n",
        "            #for printing        \n",
        "            if phase == \"Training\":    \n",
        "                epoch_loss = running_loss / dataset_sizes[phase]\n",
        "                epoch_acc = running_corrects.double() / dataset_sizes[phase]\n",
        "            if phase == \"Testing\":    \n",
        "                epoch_loss = running_loss / dataset_sizes[phase]\n",
        "                epoch_acc = running_corrects.double() / dataset_sizes[phase]\n",
        "            \n",
        "            \n",
        "            print('{} Loss: {:.4f} Acc: {:.4f}'.format(\n",
        "                phase, epoch_loss, epoch_acc))\n",
        "\n",
        "            # deep copy the best model\n",
        "            if phase == 'Testing' and epoch_acc > best_acc:\n",
        "                best_acc = epoch_acc\n",
        "                epoch_no = epoch\n",
        "                best_model_wts = copy.deepcopy(model.state_dict())\n",
        "\n",
        "        print()\n",
        "\n",
        "    time_elapsed = time.time() - since\n",
        "    print('Training complete in {:.0f}m {:.0f}s'.format(\n",
        "        time_elapsed // 60, time_elapsed % 60))\n",
        "    print('Best val Acc: {:4f} in epoch {}'.format(best_acc, epoch_no))\n",
        "\n",
        "    # load best model weights\n",
        "    model.load_state_dict(best_model_wts)\n",
        "    torch.save(model.state_dict(), '/content/gdrive/MyDrive/Contrast_dataset_final-20230403T102414Z-001/Model/resnetsoftmax2.pt')\n",
        "    return model"
      ],
      "metadata": {
        "id": "zGfmHAAWwB4X"
      },
      "execution_count": 6,
      "outputs": []
    },
    {
      "cell_type": "code",
      "source": [
        "#Using a model pre-trained on ImageNet and replacing it's final linear layer\n",
        "\n",
        "#For resnet18\n",
        "model_ft = models.resnet50(pretrained=True)\n",
        "num_ftrs = model_ft.fc.in_features\n",
        "model_ft.fc = nn.Linear(num_ftrs, 4) \n",
        "\n",
        "#for VGG16_BN\n",
        "# model_ft = models.vgg16_bn(pretrained=True)\n",
        "# model_ft.classifier[6].out_features = 8\n",
        "\n",
        "model_ft = model_ft.to(device)\n",
        "\n",
        "criterion = nn.CrossEntropyLoss()\n",
        "\n",
        "# Using Adam as the parameter optimizer\n",
        "optimizer_ft = optim.Adam(model_ft.parameters(), lr = 0.001, betas=(0.9, 0.999))\n",
        "\n",
        "# Decay LR by a factor of 0.1 every 7 epochs\n",
        "exp_lr_scheduler = lr_scheduler.StepLR(optimizer_ft, step_size=7, gamma=0.1)       \n",
        "\n"
      ],
      "metadata": {
        "id": "CzgoV3YhwES6",
        "outputId": "47d5fc16-c8c1-4267-975d-87a33d8fe536",
        "colab": {
          "base_uri": "https://localhost:8080/"
        }
      },
      "execution_count": 7,
      "outputs": [
        {
          "output_type": "stream",
          "name": "stderr",
          "text": [
            "/usr/local/lib/python3.9/dist-packages/torchvision/models/_utils.py:208: UserWarning: The parameter 'pretrained' is deprecated since 0.13 and may be removed in the future, please use 'weights' instead.\n",
            "  warnings.warn(\n",
            "/usr/local/lib/python3.9/dist-packages/torchvision/models/_utils.py:223: UserWarning: Arguments other than a weight enum or `None` for 'weights' are deprecated since 0.13 and may be removed in the future. The current behavior is equivalent to passing `weights=ResNet50_Weights.IMAGENET1K_V1`. You can also use `weights=ResNet50_Weights.DEFAULT` to get the most up-to-date weights.\n",
            "  warnings.warn(msg)\n",
            "Downloading: \"https://download.pytorch.org/models/resnet50-0676ba61.pth\" to /root/.cache/torch/hub/checkpoints/resnet50-0676ba61.pth\n",
            "100%|██████████| 97.8M/97.8M [00:00<00:00, 230MB/s]\n"
          ]
        }
      ]
    },
    {
      "cell_type": "code",
      "source": [
        "import torch\n",
        "print(torch.version.cuda)"
      ],
      "metadata": {
        "colab": {
          "base_uri": "https://localhost:8080/"
        },
        "id": "3tdqaVQnwHX7",
        "outputId": "e6ed8fc2-c907-434e-c6a9-338f57339c11"
      },
      "execution_count": 8,
      "outputs": [
        {
          "output_type": "stream",
          "name": "stdout",
          "text": [
            "11.8\n"
          ]
        }
      ]
    },
    {
      "cell_type": "code",
      "source": [
        "# Train the model  NO\n",
        "model = train_model(model_ft, criterion, optimizer_ft, exp_lr_scheduler, num_epochs=60)"
      ],
      "metadata": {
        "colab": {
          "base_uri": "https://localhost:8080/"
        },
        "id": "FOxqWjCYwJbw",
        "outputId": "2b8cadaf-7c02-4c3a-fb39-7ed3b53d1f6f"
      },
      "execution_count": null,
      "outputs": [
        {
          "output_type": "stream",
          "name": "stdout",
          "text": [
            "1680527719.588609\n",
            "Epoch 1/60\n",
            "----------\n",
            "Training Loss: 0.8662 Acc: 0.6606\n",
            "Testing Loss: 0.7764 Acc: 0.6445\n",
            "\n",
            "Epoch 2/60\n",
            "----------\n",
            "Training Loss: 0.6146 Acc: 0.7621\n",
            "Testing Loss: 0.6171 Acc: 0.7757\n",
            "\n",
            "Epoch 3/60\n",
            "----------\n",
            "Training Loss: 0.5448 Acc: 0.7929\n",
            "Testing Loss: 0.5053 Acc: 0.8108\n",
            "\n",
            "Epoch 4/60\n",
            "----------\n",
            "Training Loss: 0.5081 Acc: 0.8086\n",
            "Testing Loss: 0.6364 Acc: 0.7841\n",
            "\n",
            "Epoch 5/60\n",
            "----------\n",
            "Training Loss: 0.4795 Acc: 0.8189\n",
            "Testing Loss: 0.3486 Acc: 0.8673\n",
            "\n",
            "Epoch 6/60\n",
            "----------\n",
            "Training Loss: 0.4475 Acc: 0.8326\n",
            "Testing Loss: 0.5344 Acc: 0.7887\n",
            "\n",
            "Epoch 7/60\n",
            "----------\n",
            "Training Loss: 0.4258 Acc: 0.8415\n",
            "Testing Loss: 0.3580 Acc: 0.8726\n",
            "\n",
            "Epoch 8/60\n",
            "----------\n",
            "Training Loss: 0.4059 Acc: 0.8480\n",
            "Testing Loss: 0.3561 Acc: 0.8642\n",
            "\n",
            "Epoch 9/60\n",
            "----------\n",
            "Training Loss: 0.4085 Acc: 0.8473\n",
            "Testing Loss: 0.2934 Acc: 0.9016\n",
            "\n",
            "Epoch 10/60\n",
            "----------\n",
            "Training Loss: 0.3851 Acc: 0.8549\n",
            "Testing Loss: 0.2869 Acc: 0.9008\n",
            "\n",
            "Epoch 11/60\n",
            "----------\n",
            "Training Loss: 0.3703 Acc: 0.8583\n",
            "Testing Loss: 0.4911 Acc: 0.8337\n",
            "\n",
            "Epoch 12/60\n",
            "----------\n",
            "Training Loss: 0.3610 Acc: 0.8583\n",
            "Testing Loss: 0.2684 Acc: 0.9085\n",
            "\n",
            "Epoch 13/60\n",
            "----------\n",
            "Training Loss: 0.3621 Acc: 0.8618\n",
            "Testing Loss: 0.3019 Acc: 0.8970\n",
            "\n",
            "Epoch 14/60\n",
            "----------\n",
            "Training Loss: 0.3430 Acc: 0.8747\n",
            "Testing Loss: 0.3491 Acc: 0.8711\n",
            "\n",
            "Epoch 15/60\n",
            "----------\n",
            "Training Loss: 0.3279 Acc: 0.8743\n",
            "Testing Loss: 0.2367 Acc: 0.9047\n",
            "\n",
            "Epoch 16/60\n",
            "----------\n",
            "Training Loss: 0.3491 Acc: 0.8721\n",
            "Testing Loss: 0.2196 Acc: 0.9169\n",
            "\n",
            "Epoch 17/60\n",
            "----------\n",
            "Training Loss: 0.3252 Acc: 0.8808\n",
            "Testing Loss: 0.2542 Acc: 0.9047\n",
            "\n",
            "Epoch 18/60\n",
            "----------\n",
            "Training Loss: 0.3227 Acc: 0.8759\n",
            "Testing Loss: 0.3142 Acc: 0.8810\n",
            "\n",
            "Epoch 19/60\n",
            "----------\n",
            "Training Loss: 0.3239 Acc: 0.8799\n",
            "Testing Loss: 0.1997 Acc: 0.9314\n",
            "\n",
            "Epoch 20/60\n",
            "----------\n",
            "Training Loss: 0.3116 Acc: 0.8827\n",
            "Testing Loss: 0.2308 Acc: 0.9199\n",
            "\n",
            "Epoch 21/60\n",
            "----------\n",
            "Training Loss: 0.3132 Acc: 0.8834\n",
            "Testing Loss: 0.5489 Acc: 0.8413\n",
            "\n",
            "Epoch 22/60\n",
            "----------\n",
            "Training Loss: 0.3051 Acc: 0.8875\n",
            "Testing Loss: 0.2205 Acc: 0.9184\n",
            "\n",
            "Epoch 23/60\n",
            "----------\n",
            "Training Loss: 0.2954 Acc: 0.8889\n",
            "Testing Loss: 0.2604 Acc: 0.9069\n",
            "\n",
            "Epoch 24/60\n",
            "----------\n",
            "Training Loss: 0.2754 Acc: 0.8981\n",
            "Testing Loss: 0.2362 Acc: 0.9008\n",
            "\n",
            "Epoch 25/60\n",
            "----------\n",
            "Training Loss: 0.2790 Acc: 0.8995\n",
            "Testing Loss: 0.3589 Acc: 0.8703\n",
            "\n",
            "Epoch 26/60\n",
            "----------\n",
            "Training Loss: 0.2736 Acc: 0.8957\n",
            "Testing Loss: 0.1596 Acc: 0.9481\n",
            "\n",
            "Epoch 27/60\n",
            "----------\n",
            "Training Loss: 0.2499 Acc: 0.9072\n",
            "Testing Loss: 0.2166 Acc: 0.9275\n",
            "\n",
            "Epoch 28/60\n",
            "----------\n",
            "Training Loss: 0.2703 Acc: 0.8962\n",
            "Testing Loss: 0.3388 Acc: 0.8757\n",
            "\n",
            "Epoch 29/60\n",
            "----------\n",
            "Training Loss: 0.2650 Acc: 0.9011\n",
            "Testing Loss: 0.1558 Acc: 0.9443\n",
            "\n",
            "Epoch 30/60\n",
            "----------\n",
            "Training Loss: 0.2603 Acc: 0.9074\n",
            "Testing Loss: 0.1834 Acc: 0.9306\n",
            "\n",
            "Epoch 31/60\n",
            "----------\n",
            "Training Loss: 0.2404 Acc: 0.9089\n",
            "Testing Loss: 0.1472 Acc: 0.9436\n",
            "\n",
            "Epoch 32/60\n",
            "----------\n",
            "Training Loss: 0.2532 Acc: 0.9110\n",
            "Testing Loss: 0.1699 Acc: 0.9359\n",
            "\n",
            "Epoch 33/60\n",
            "----------\n",
            "Training Loss: 0.2431 Acc: 0.9116\n",
            "Testing Loss: 0.1283 Acc: 0.9542\n",
            "\n",
            "Epoch 34/60\n",
            "----------\n",
            "Training Loss: 0.2337 Acc: 0.9123\n",
            "Testing Loss: 0.1384 Acc: 0.9466\n",
            "\n",
            "Epoch 35/60\n",
            "----------\n",
            "Training Loss: 0.2500 Acc: 0.9063\n",
            "Testing Loss: 0.1920 Acc: 0.9275\n",
            "\n",
            "Epoch 36/60\n",
            "----------\n",
            "Training Loss: 0.2166 Acc: 0.9205\n",
            "Testing Loss: 0.1736 Acc: 0.9367\n",
            "\n",
            "Epoch 37/60\n",
            "----------\n",
            "Training Loss: 0.2363 Acc: 0.9091\n",
            "Testing Loss: 0.2936 Acc: 0.8963\n",
            "\n",
            "Epoch 38/60\n",
            "----------\n",
            "Training Loss: 0.2138 Acc: 0.9222\n",
            "Testing Loss: 0.1180 Acc: 0.9596\n",
            "\n",
            "Epoch 39/60\n",
            "----------\n",
            "Training Loss: 0.2241 Acc: 0.9151\n",
            "Testing Loss: 0.2779 Acc: 0.9115\n",
            "\n",
            "Epoch 40/60\n",
            "----------\n",
            "Training Loss: 0.2167 Acc: 0.9198\n",
            "Testing Loss: 0.1677 Acc: 0.9428\n",
            "\n",
            "Epoch 41/60\n",
            "----------\n",
            "Training Loss: 0.2095 Acc: 0.9221\n",
            "Testing Loss: 0.1319 Acc: 0.9565\n",
            "\n",
            "Epoch 42/60\n",
            "----------\n",
            "Training Loss: 0.2090 Acc: 0.9257\n",
            "Testing Loss: 0.2129 Acc: 0.9306\n",
            "\n",
            "Epoch 43/60\n",
            "----------\n",
            "Training Loss: 0.2114 Acc: 0.9224\n",
            "Testing Loss: 0.2446 Acc: 0.9230\n",
            "\n",
            "Epoch 44/60\n",
            "----------\n",
            "Training Loss: 0.2101 Acc: 0.9229\n",
            "Testing Loss: 0.1211 Acc: 0.9512\n",
            "\n",
            "Epoch 45/60\n",
            "----------\n",
            "Training Loss: 0.2024 Acc: 0.9250\n",
            "Testing Loss: 0.2694 Acc: 0.9130\n",
            "\n",
            "Epoch 46/60\n",
            "----------\n",
            "Training Loss: 0.1922 Acc: 0.9322\n",
            "Testing Loss: 0.1001 Acc: 0.9603\n",
            "\n",
            "Epoch 47/60\n",
            "----------\n",
            "Training Loss: 0.1996 Acc: 0.9264\n",
            "Testing Loss: 0.1069 Acc: 0.9687\n",
            "\n",
            "Epoch 48/60\n",
            "----------\n",
            "Training Loss: 0.1879 Acc: 0.9329\n",
            "Testing Loss: 0.1243 Acc: 0.9565\n",
            "\n",
            "Epoch 49/60\n",
            "----------\n",
            "Training Loss: 0.1994 Acc: 0.9296\n",
            "Testing Loss: 0.1318 Acc: 0.9519\n",
            "\n",
            "Epoch 50/60\n",
            "----------\n",
            "Training Loss: 0.1918 Acc: 0.9303\n",
            "Testing Loss: 0.2975 Acc: 0.9207\n",
            "\n",
            "Epoch 51/60\n",
            "----------\n",
            "Training Loss: 0.1975 Acc: 0.9240\n",
            "Testing Loss: 0.0971 Acc: 0.9649\n",
            "\n",
            "Epoch 52/60\n",
            "----------\n",
            "Training Loss: 0.1826 Acc: 0.9313\n",
            "Testing Loss: 0.0934 Acc: 0.9657\n",
            "\n",
            "Epoch 53/60\n",
            "----------\n",
            "Training Loss: 0.2049 Acc: 0.9238\n",
            "Testing Loss: 0.1540 Acc: 0.9458\n",
            "\n",
            "Epoch 54/60\n",
            "----------\n",
            "Training Loss: 0.1914 Acc: 0.9276\n",
            "Testing Loss: 0.1726 Acc: 0.9367\n",
            "\n",
            "Epoch 55/60\n",
            "----------\n",
            "Training Loss: 0.1874 Acc: 0.9332\n",
            "Testing Loss: 0.1113 Acc: 0.9596\n",
            "\n",
            "Epoch 56/60\n",
            "----------\n",
            "Training Loss: 0.1691 Acc: 0.9367\n",
            "Testing Loss: 0.1098 Acc: 0.9580\n",
            "\n",
            "Epoch 57/60\n",
            "----------\n",
            "Training Loss: 0.1747 Acc: 0.9352\n",
            "Testing Loss: 0.1165 Acc: 0.9550\n",
            "\n",
            "Epoch 58/60\n",
            "----------\n",
            "Training Loss: 0.1686 Acc: 0.9385\n",
            "Testing Loss: 0.0943 Acc: 0.9687\n",
            "\n",
            "Epoch 59/60\n",
            "----------\n",
            "Training Loss: 0.1865 Acc: 0.9296\n",
            "Testing Loss: 0.1020 Acc: 0.9626\n",
            "\n",
            "Epoch 60/60\n",
            "----------\n",
            "Training Loss: 0.1801 Acc: 0.9339\n",
            "Testing Loss: 0.0881 Acc: 0.9710\n",
            "\n",
            "Training complete in 74m 7s\n",
            "Best val Acc: 0.971014 in epoch 59\n"
          ]
        }
      ]
    },
    {
      "cell_type": "code",
      "source": [
        "#Plot the train & validation losses NO\n",
        "plt.figure(1)\n",
        "plt.title(\"Training Vs Validation Losses\")\n",
        "plt.xlabel('Epoch')\n",
        "plt.ylabel('Loss')\n",
        "plt.plot(epoch_counter_train,train_loss,color = 'r', label=\"Training Loss\")\n",
        "plt.plot(epoch_counter_val,val_loss,color = 'g', label=\"Validation Loss\")\n",
        "plt.legend()\n",
        "plt.show()"
      ],
      "metadata": {
        "colab": {
          "base_uri": "https://localhost:8080/",
          "height": 472
        },
        "id": "Q0h4UUCTwMFo",
        "outputId": "02151007-5253-4107-f0e2-982a012b6353"
      },
      "execution_count": null,
      "outputs": [
        {
          "output_type": "display_data",
          "data": {
            "text/plain": [
              "<Figure size 640x480 with 1 Axes>"
            ],
            "image/png": "[encoded data removed]"
          },
          "metadata": {}
        }
      ]
    },
    {
      "cell_type": "code",
      "source": [
        "import torch\n",
        "import matplotlib.pyplot as plt\n",
        "\n",
        "# Convert the lists to PyTorch tensors  NO\n",
        "train_acc_tensor = torch.tensor(train_acc)\n",
        "val_acc_tensor = torch.tensor(val_acc)\n",
        "\n",
        "# Plot the accuracies in train & validation\n",
        "plt.figure(2)\n",
        "plt.title(\"Training Vs Validation Accuracies\")\n",
        "plt.xlabel('Epoch')\n",
        "plt.ylabel('Accuracy')\n",
        "plt.plot(epoch_counter_train, train_acc_tensor.cpu().numpy(), color='r', label=\"Training Accuracy\")\n",
        "plt.plot(epoch_counter_val, val_acc_tensor.cpu().numpy(), color='g', label=\"Validation Accuracy\")\n",
        "plt.legend()\n",
        "plt.show()\n"
      ],
      "metadata": {
        "id": "kPN3lfXLwN5i",
        "outputId": "1cfec842-568d-49eb-e393-450c75dda8bf",
        "colab": {
          "base_uri": "https://localhost:8080/",
          "height": 472
        }
      },
      "execution_count": null,
      "outputs": [
        {
          "output_type": "display_data",
          "data": {
            "text/plain": [
              "<Figure size 640x480 with 1 Axes>"
            ],
            "image/png": "[encoded data removed]"
          },
          "metadata": {}
        }
      ]
    },
    {
      "cell_type": "code",
      "source": [
        "#Class wise testing accuracy NO\n",
        "class_correct = list(0. for i in range(4))\n",
        "class_total = list(0. for i in range(4))\n",
        "with torch.no_grad():\n",
        "    for i, (inputs, labels) in enumerate(dataloaders['Validating']):\n",
        "            inputs = inputs.to(device)\n",
        "            labels = labels.to(device)\n",
        "            outputs = model_ft(inputs)\n",
        "            _, predicted = torch.max(outputs, 1)\n",
        "            point = (predicted == labels).squeeze()\n",
        "            for j in range(len(labels)):\n",
        "                label = labels[j]\n",
        "                class_correct[label] += point[j].item()\n",
        "                class_total[label] += 1\n",
        "\n",
        "for i in range(4):\n",
        "    print('Accuracy of %5s : %2d %%' % (\n",
        "        class_names[i], 100 * class_correct[i] / class_total[i]))"
      ],
      "metadata": {
        "id": "L-I5Th_AwQIw",
        "outputId": "5e1629fe-48e1-40e4-e18d-7ea785cd5091",
        "colab": {
          "base_uri": "https://localhost:8080/"
        }
      },
      "execution_count": null,
      "outputs": [
        {
          "output_type": "stream",
          "name": "stdout",
          "text": [
            "Accuracy of glioma : 91 %\n",
            "Accuracy of meningioma : 97 %\n",
            "Accuracy of notumor : 100 %\n",
            "Accuracy of pituitory : 98 %\n"
          ]
        }
      ]
    },
    {
      "cell_type": "code",
      "source": [
        "#Get the confusion matrix for testing data NO\n",
        "confusion_matrix = cm.ConfusionMeter(4)\n",
        "with torch.no_grad():\n",
        "    for i, (inputs, labels) in enumerate(dataloaders['Validating']):\n",
        "        inputs = inputs.to(device)\n",
        "        labels = labels.to(device)\n",
        "        outputs = model_ft(inputs)\n",
        "        _, predicted = torch.max(outputs, 1)\n",
        "        confusion_matrix.add(predicted, labels)\n",
        "    print(confusion_matrix.conf)\n",
        "\n",
        "def get_confusion_matrix():\n",
        "  confusion_matrix = cm.ConfusionMeter(4)\n",
        "  with torch.no_grad():\n",
        "    for i, (inputs, labels) in enumerate(dataloaders['Validating']):\n",
        "      inputs = inputs.to(device)\n",
        "      labels = labels.to(device)\n",
        "      outputs = model_ft(inputs)\n",
        "      _, predicted"
      ],
      "metadata": {
        "id": "fbs6W5NOwRuM",
        "outputId": "f54ea038-5d3e-4a5f-c311-280b301659a9",
        "colab": {
          "base_uri": "https://localhost:8080/"
        }
      },
      "execution_count": null,
      "outputs": [
        {
          "output_type": "stream",
          "name": "stdout",
          "text": [
            "[[209  14   1   4]\n",
            " [  2 297   3   4]\n",
            " [  0   0 405   0]\n",
            " [  1   3   0 296]]\n"
          ]
        }
      ]
    },
    {
      "cell_type": "code",
      "source": [
        "#Confusion matrix as a heatmap NO\n",
        "con_m = confusion_matrix.conf\n",
        "df_con_m = pd.DataFrame(con_m, index= [i for i in class_names], columns = [i for i in class_names])\n",
        "sn.set(font_scale= 1.1)\n",
        "sn.heatmap(df_con_m, annot=True,fmt='g' ,  annot_kws={\"size\" : 10}, cbar = False, cmap=\"Blues\")"
      ],
      "metadata": {
        "id": "v5-fihwHwTri",
        "outputId": "73f78e6a-42b4-4d50-8754-098f8ad71d5e",
        "colab": {
          "base_uri": "https://localhost:8080/",
          "height": 454
        }
      },
      "execution_count": null,
      "outputs": [
        {
          "output_type": "execute_result",
          "data": {
            "text/plain": [
              "<Axes: >"
            ]
          },
          "metadata": {},
          "execution_count": 21
        },
        {
          "output_type": "display_data",
          "data": {
            "text/plain": [
              "<Figure size 640x480 with 1 Axes>"
            ],
            "image/png": "[encoded data removed]"
          },
          "metadata": {}
        }
      ]
    },
    {
      "cell_type": "code",
      "source": [
        "import numpy as np\n",
        "from sklearn.metrics import accuracy_score, precision_score, recall_score, f1_score\n",
        "\n",
        "# function to evaluate model performance\n",
        "def evaluate_model(model_ft, dataloader):\n",
        "    model_ft.eval()\n",
        "    y_true = []\n",
        "    y_pred = []\n",
        "    with torch.no_grad():\n",
        "        for inputs, labels in dataloader:\n",
        "            inputs = inputs.to(device)\n",
        "            labels = labels.to(device)\n",
        "            outputs = model_ft(inputs)\n",
        "            _, preds = torch.max(outputs, 1)\n",
        "            y_true.extend(labels.cpu().numpy())\n",
        "            y_pred.extend(preds.cpu().numpy())\n",
        "\n",
        "    accuracy = accuracy_score(y_true, y_pred)\n",
        "    precision = precision_score(y_true, y_pred, average='weighted')\n",
        "    recall = recall_score(y_true, y_pred, average='weighted')\n",
        "    f1 = f1_score(y_true, y_pred, average='weighted')\n",
        "\n",
        "    print('Accuracy: {:.4f} Precision: {:.4f} Recall: {:.4f} F1 score: {:.4f}'.format(accuracy, precision, recall, f1))\n",
        "evaluate_model(model_ft, dataloaders['Testing'])"
      ],
      "metadata": {
        "id": "GcbzMKJZwVTJ",
        "outputId": "27e333d8-3392-47b1-a34f-a5bd54e7f982",
        "colab": {
          "base_uri": "https://localhost:8080/",
          "height": 345
        }
      },
      "execution_count": 9,
      "outputs": [
        {
          "output_type": "error",
          "ename": "KeyboardInterrupt",
          "evalue": "ignored",
          "traceback": [
            "\u001b[0;31m---------------------------------------------------------------------------\u001b[0m",
            "\u001b[0;31mKeyboardInterrupt\u001b[0m                         Traceback (most recent call last)",
            "\u001b[0;32m<ipython-input-9-649cba1b411a>\u001b[0m in \u001b[0;36m<cell line: 24>\u001b[0;34m()\u001b[0m\n\u001b[1;32m     22\u001b[0m \u001b[0;34m\u001b[0m\u001b[0m\n\u001b[1;32m     23\u001b[0m     \u001b[0mprint\u001b[0m\u001b[0;34m(\u001b[0m\u001b[0;34m'Accuracy: {:.4f} Precision: {:.4f} Recall: {:.4f} F1 score: {:.4f}'\u001b[0m\u001b[0;34m.\u001b[0m\u001b[0mformat\u001b[0m\u001b[0;34m(\u001b[0m\u001b[0maccuracy\u001b[0m\u001b[0;34m,\u001b[0m \u001b[0mprecision\u001b[0m\u001b[0;34m,\u001b[0m \u001b[0mrecall\u001b[0m\u001b[0;34m,\u001b[0m \u001b[0mf1\u001b[0m\u001b[0;34m)\u001b[0m\u001b[0;34m)\u001b[0m\u001b[0;34m\u001b[0m\u001b[0;34m\u001b[0m\u001b[0m\n\u001b[0;32m---> 24\u001b[0;31m \u001b[0mevaluate_model\u001b[0m\u001b[0;34m(\u001b[0m\u001b[0mmodel_ft\u001b[0m\u001b[0;34m,\u001b[0m \u001b[0mdataloaders\u001b[0m\u001b[0;34m[\u001b[0m\u001b[0;34m'Testing'\u001b[0m\u001b[0;34m]\u001b[0m\u001b[0;34m)\u001b[0m\u001b[0;34m\u001b[0m\u001b[0;34m\u001b[0m\u001b[0m\n\u001b[0m",
            "\u001b[0;32m<ipython-input-9-649cba1b411a>\u001b[0m in \u001b[0;36mevaluate_model\u001b[0;34m(model_ft, dataloader)\u001b[0m\n\u001b[1;32m     11\u001b[0m             \u001b[0minputs\u001b[0m \u001b[0;34m=\u001b[0m \u001b[0minputs\u001b[0m\u001b[0;34m.\u001b[0m\u001b[0mto\u001b[0m\u001b[0;34m(\u001b[0m\u001b[0mdevice\u001b[0m\u001b[0;34m)\u001b[0m\u001b[0;34m\u001b[0m\u001b[0;34m\u001b[0m\u001b[0m\n\u001b[1;32m     12\u001b[0m             \u001b[0mlabels\u001b[0m \u001b[0;34m=\u001b[0m \u001b[0mlabels\u001b[0m\u001b[0;34m.\u001b[0m\u001b[0mto\u001b[0m\u001b[0;34m(\u001b[0m\u001b[0mdevice\u001b[0m\u001b[0;34m)\u001b[0m\u001b[0;34m\u001b[0m\u001b[0;34m\u001b[0m\u001b[0m\n\u001b[0;32m---> 13\u001b[0;31m             \u001b[0moutputs\u001b[0m \u001b[0;34m=\u001b[0m \u001b[0mmodel_ft\u001b[0m\u001b[0;34m(\u001b[0m\u001b[0minputs\u001b[0m\u001b[0;34m)\u001b[0m\u001b[0;34m\u001b[0m\u001b[0;34m\u001b[0m\u001b[0m\n\u001b[0m\u001b[1;32m     14\u001b[0m             \u001b[0m_\u001b[0m\u001b[0;34m,\u001b[0m \u001b[0mpreds\u001b[0m \u001b[0;34m=\u001b[0m \u001b[0mtorch\u001b[0m\u001b[0;34m.\u001b[0m\u001b[0mmax\u001b[0m\u001b[0;34m(\u001b[0m\u001b[0moutputs\u001b[0m\u001b[0;34m,\u001b[0m \u001b[0;36m1\u001b[0m\u001b[0;34m)\u001b[0m\u001b[0;34m\u001b[0m\u001b[0;34m\u001b[0m\u001b[0m\n\u001b[1;32m     15\u001b[0m             \u001b[0my_true\u001b[0m\u001b[0;34m.\u001b[0m\u001b[0mextend\u001b[0m\u001b[0;34m(\u001b[0m\u001b[0mlabels\u001b[0m\u001b[0;34m.\u001b[0m\u001b[0mcpu\u001b[0m\u001b[0;34m(\u001b[0m\u001b[0;34m)\u001b[0m\u001b[0;34m.\u001b[0m\u001b[0mnumpy\u001b[0m\u001b[0;34m(\u001b[0m\u001b[0;34m)\u001b[0m\u001b[0;34m)\u001b[0m\u001b[0;34m\u001b[0m\u001b[0;34m\u001b[0m\u001b[0m\n",
            "\u001b[0;32m/usr/local/lib/python3.9/dist-packages/torch/nn/modules/module.py\u001b[0m in \u001b[0;36m_call_impl\u001b[0;34m(self, *args, **kwargs)\u001b[0m\n\u001b[1;32m   1499\u001b[0m                 \u001b[0;32mor\u001b[0m \u001b[0m_global_backward_pre_hooks\u001b[0m \u001b[0;32mor\u001b[0m \u001b[0m_global_backward_hooks\u001b[0m\u001b[0;34m\u001b[0m\u001b[0;34m\u001b[0m\u001b[0m\n\u001b[1;32m   1500\u001b[0m                 or _global_forward_hooks or _global_forward_pre_hooks):\n\u001b[0;32m-> 1501\u001b[0;31m             \u001b[0;32mreturn\u001b[0m \u001b[0mforward_call\u001b[0m\u001b[0;34m(\u001b[0m\u001b[0;34m*\u001b[0m\u001b[0margs\u001b[0m\u001b[0;34m,\u001b[0m \u001b[0;34m**\u001b[0m\u001b[0mkwargs\u001b[0m\u001b[0;34m)\u001b[0m\u001b[0;34m\u001b[0m\u001b[0;34m\u001b[0m\u001b[0m\n\u001b[0m\u001b[1;32m   1502\u001b[0m         \u001b[0;31m# Do not call functions when jit is used\u001b[0m\u001b[0;34m\u001b[0m\u001b[0;34m\u001b[0m\u001b[0m\n\u001b[1;32m   1503\u001b[0m         \u001b[0mfull_backward_hooks\u001b[0m\u001b[0;34m,\u001b[0m \u001b[0mnon_full_backward_hooks\u001b[0m \u001b[0;34m=\u001b[0m \u001b[0;34m[\u001b[0m\u001b[0;34m]\u001b[0m\u001b[0;34m,\u001b[0m \u001b[0;34m[\u001b[0m\u001b[0;34m]\u001b[0m\u001b[0;34m\u001b[0m\u001b[0;34m\u001b[0m\u001b[0m\n",
            "\u001b[0;32m/usr/local/lib/python3.9/dist-packages/torchvision/models/resnet.py\u001b[0m in \u001b[0;36mforward\u001b[0;34m(self, x)\u001b[0m\n\u001b[1;32m    283\u001b[0m \u001b[0;34m\u001b[0m\u001b[0m\n\u001b[1;32m    284\u001b[0m     \u001b[0;32mdef\u001b[0m \u001b[0mforward\u001b[0m\u001b[0;34m(\u001b[0m\u001b[0mself\u001b[0m\u001b[0;34m,\u001b[0m \u001b[0mx\u001b[0m\u001b[0;34m:\u001b[0m \u001b[0mTensor\u001b[0m\u001b[0;34m)\u001b[0m \u001b[0;34m->\u001b[0m \u001b[0mTensor\u001b[0m\u001b[0;34m:\u001b[0m\u001b[0;34m\u001b[0m\u001b[0;34m\u001b[0m\u001b[0m\n\u001b[0;32m--> 285\u001b[0;31m         \u001b[0;32mreturn\u001b[0m \u001b[0mself\u001b[0m\u001b[0;34m.\u001b[0m\u001b[0m_forward_impl\u001b[0m\u001b[0;34m(\u001b[0m\u001b[0mx\u001b[0m\u001b[0;34m)\u001b[0m\u001b[0;34m\u001b[0m\u001b[0;34m\u001b[0m\u001b[0m\n\u001b[0m\u001b[1;32m    286\u001b[0m \u001b[0;34m\u001b[0m\u001b[0m\n\u001b[1;32m    287\u001b[0m \u001b[0;34m\u001b[0m\u001b[0m\n",
            "\u001b[0;32m/usr/local/lib/python3.9/dist-packages/torchvision/models/resnet.py\u001b[0m in \u001b[0;36m_forward_impl\u001b[0;34m(self, x)\u001b[0m\n\u001b[1;32m    266\u001b[0m     \u001b[0;32mdef\u001b[0m \u001b[0m_forward_impl\u001b[0m\u001b[0;34m(\u001b[0m\u001b[0mself\u001b[0m\u001b[0;34m,\u001b[0m \u001b[0mx\u001b[0m\u001b[0;34m:\u001b[0m \u001b[0mTensor\u001b[0m\u001b[0;34m)\u001b[0m \u001b[0;34m->\u001b[0m \u001b[0mTensor\u001b[0m\u001b[0;34m:\u001b[0m\u001b[0;34m\u001b[0m\u001b[0;34m\u001b[0m\u001b[0m\n\u001b[1;32m    267\u001b[0m         \u001b[0;31m# See note [TorchScript super()]\u001b[0m\u001b[0;34m\u001b[0m\u001b[0;34m\u001b[0m\u001b[0m\n\u001b[0;32m--> 268\u001b[0;31m         \u001b[0mx\u001b[0m \u001b[0;34m=\u001b[0m \u001b[0mself\u001b[0m\u001b[0;34m.\u001b[0m\u001b[0mconv1\u001b[0m\u001b[0;34m(\u001b[0m\u001b[0mx\u001b[0m\u001b[0;34m)\u001b[0m\u001b[0;34m\u001b[0m\u001b[0;34m\u001b[0m\u001b[0m\n\u001b[0m\u001b[1;32m    269\u001b[0m         \u001b[0mx\u001b[0m \u001b[0;34m=\u001b[0m \u001b[0mself\u001b[0m\u001b[0;34m.\u001b[0m\u001b[0mbn1\u001b[0m\u001b[0;34m(\u001b[0m\u001b[0mx\u001b[0m\u001b[0;34m)\u001b[0m\u001b[0;34m\u001b[0m\u001b[0;34m\u001b[0m\u001b[0m\n\u001b[1;32m    270\u001b[0m         \u001b[0mx\u001b[0m \u001b[0;34m=\u001b[0m \u001b[0mself\u001b[0m\u001b[0;34m.\u001b[0m\u001b[0mrelu\u001b[0m\u001b[0;34m(\u001b[0m\u001b[0mx\u001b[0m\u001b[0;34m)\u001b[0m\u001b[0;34m\u001b[0m\u001b[0;34m\u001b[0m\u001b[0m\n",
            "\u001b[0;32m/usr/local/lib/python3.9/dist-packages/torch/nn/modules/module.py\u001b[0m in \u001b[0;36m_call_impl\u001b[0;34m(self, *args, **kwargs)\u001b[0m\n\u001b[1;32m   1499\u001b[0m                 \u001b[0;32mor\u001b[0m \u001b[0m_global_backward_pre_hooks\u001b[0m \u001b[0;32mor\u001b[0m \u001b[0m_global_backward_hooks\u001b[0m\u001b[0;34m\u001b[0m\u001b[0;34m\u001b[0m\u001b[0m\n\u001b[1;32m   1500\u001b[0m                 or _global_forward_hooks or _global_forward_pre_hooks):\n\u001b[0;32m-> 1501\u001b[0;31m             \u001b[0;32mreturn\u001b[0m \u001b[0mforward_call\u001b[0m\u001b[0;34m(\u001b[0m\u001b[0;34m*\u001b[0m\u001b[0margs\u001b[0m\u001b[0;34m,\u001b[0m \u001b[0;34m**\u001b[0m\u001b[0mkwargs\u001b[0m\u001b[0;34m)\u001b[0m\u001b[0;34m\u001b[0m\u001b[0;34m\u001b[0m\u001b[0m\n\u001b[0m\u001b[1;32m   1502\u001b[0m         \u001b[0;31m# Do not call functions when jit is used\u001b[0m\u001b[0;34m\u001b[0m\u001b[0;34m\u001b[0m\u001b[0m\n\u001b[1;32m   1503\u001b[0m         \u001b[0mfull_backward_hooks\u001b[0m\u001b[0;34m,\u001b[0m \u001b[0mnon_full_backward_hooks\u001b[0m \u001b[0;34m=\u001b[0m \u001b[0;34m[\u001b[0m\u001b[0;34m]\u001b[0m\u001b[0;34m,\u001b[0m \u001b[0;34m[\u001b[0m\u001b[0;34m]\u001b[0m\u001b[0;34m\u001b[0m\u001b[0;34m\u001b[0m\u001b[0m\n",
            "\u001b[0;32m/usr/local/lib/python3.9/dist-packages/torch/nn/modules/conv.py\u001b[0m in \u001b[0;36mforward\u001b[0;34m(self, input)\u001b[0m\n\u001b[1;32m    461\u001b[0m \u001b[0;34m\u001b[0m\u001b[0m\n\u001b[1;32m    462\u001b[0m     \u001b[0;32mdef\u001b[0m \u001b[0mforward\u001b[0m\u001b[0;34m(\u001b[0m\u001b[0mself\u001b[0m\u001b[0;34m,\u001b[0m \u001b[0minput\u001b[0m\u001b[0;34m:\u001b[0m \u001b[0mTensor\u001b[0m\u001b[0;34m)\u001b[0m \u001b[0;34m->\u001b[0m \u001b[0mTensor\u001b[0m\u001b[0;34m:\u001b[0m\u001b[0;34m\u001b[0m\u001b[0;34m\u001b[0m\u001b[0m\n\u001b[0;32m--> 463\u001b[0;31m         \u001b[0;32mreturn\u001b[0m \u001b[0mself\u001b[0m\u001b[0;34m.\u001b[0m\u001b[0m_conv_forward\u001b[0m\u001b[0;34m(\u001b[0m\u001b[0minput\u001b[0m\u001b[0;34m,\u001b[0m \u001b[0mself\u001b[0m\u001b[0;34m.\u001b[0m\u001b[0mweight\u001b[0m\u001b[0;34m,\u001b[0m \u001b[0mself\u001b[0m\u001b[0;34m.\u001b[0m\u001b[0mbias\u001b[0m\u001b[0;34m)\u001b[0m\u001b[0;34m\u001b[0m\u001b[0;34m\u001b[0m\u001b[0m\n\u001b[0m\u001b[1;32m    464\u001b[0m \u001b[0;34m\u001b[0m\u001b[0m\n\u001b[1;32m    465\u001b[0m \u001b[0;32mclass\u001b[0m \u001b[0mConv3d\u001b[0m\u001b[0;34m(\u001b[0m\u001b[0m_ConvNd\u001b[0m\u001b[0;34m)\u001b[0m\u001b[0;34m:\u001b[0m\u001b[0;34m\u001b[0m\u001b[0;34m\u001b[0m\u001b[0m\n",
            "\u001b[0;32m/usr/local/lib/python3.9/dist-packages/torch/nn/modules/conv.py\u001b[0m in \u001b[0;36m_conv_forward\u001b[0;34m(self, input, weight, bias)\u001b[0m\n\u001b[1;32m    457\u001b[0m                             \u001b[0mweight\u001b[0m\u001b[0;34m,\u001b[0m \u001b[0mbias\u001b[0m\u001b[0;34m,\u001b[0m \u001b[0mself\u001b[0m\u001b[0;34m.\u001b[0m\u001b[0mstride\u001b[0m\u001b[0;34m,\u001b[0m\u001b[0;34m\u001b[0m\u001b[0;34m\u001b[0m\u001b[0m\n\u001b[1;32m    458\u001b[0m                             _pair(0), self.dilation, self.groups)\n\u001b[0;32m--> 459\u001b[0;31m         return F.conv2d(input, weight, bias, self.stride,\n\u001b[0m\u001b[1;32m    460\u001b[0m                         self.padding, self.dilation, self.groups)\n\u001b[1;32m    461\u001b[0m \u001b[0;34m\u001b[0m\u001b[0m\n",
            "\u001b[0;31mKeyboardInterrupt\u001b[0m: "
          ]
        }
      ]
    },
    {
      "cell_type": "code",
      "source": [
        "classes = ['glioma', 'meningioma', 'notumor', 'pituitory']"
      ],
      "metadata": {
        "id": "gMp6AT0HVtRp"
      },
      "execution_count": 10,
      "outputs": []
    },
    {
      "cell_type": "code",
      "source": [
        "import torch\n",
        "from torchvision import models, transforms\n",
        "from PIL import Image\n",
        "import torch.nn.functional as F\n",
        "\n",
        "# Load the state_dict\n",
        "state_dict = torch.load('/content/gdrive/MyDrive/Contrast_dataset_final-20230403T102414Z-001/Model/resnetsoftmax2.pt', map_location=torch.device('cpu'))\n",
        "\n",
        "# Initialize a new instance of the resnet50 model\n",
        "model_ft = models.resnet50(pretrained=True)\n",
        "\n",
        "# Replace the final fully connected layer with a new one\n",
        "num_ftrs = model_ft.fc.in_features\n",
        "model_ft.fc = torch.nn.Linear(num_ftrs, 4)\n",
        "\n",
        "# Load the state_dict into the new model instance\n",
        "model_ft.load_state_dict(state_dict)\n",
        "\n",
        "# Set the model to evaluation mode\n",
        "model_ft.eval()\n",
        "\n",
        "# Load the image and apply the required transformations\n",
        "image = Image.open('/content/gdrive/MyDrive/Contrast_dataset_final-20230403T102414Z-001/Contrast_dataset_final/Te-no_0025.jpg')\n",
        "\n",
        "image_transforms = transforms.Compose([\n",
        "    transforms.Resize(256),\n",
        "    transforms.CenterCrop(224),\n",
        "    transforms.ToTensor(),\n",
        "    transforms.Normalize([0.485, 0.456, 0.406], [0.229, 0.224, 0.225])])\n",
        "image = image_transforms(image)\n",
        "image = image.unsqueeze(0)  # Add batch dimension\n",
        "\n",
        "# Run inference on the image\n",
        "with torch.no_grad():\n",
        "    outputs = model_ft(image)\n",
        "    _, predicted = torch.max(outputs, 1)\n",
        "\n",
        "# Print the predicted class label\n",
        "print('Predicted class:', classes[predicted.item()])\n",
        "probabilities = F.softmax(outputs, dim=1)\n",
        "probs_rounded = torch.round(probabilities * 1000) / 1000\n",
        "print(probs_rounded)\n"
      ],
      "metadata": {
        "colab": {
          "base_uri": "https://localhost:8080/"
        },
        "id": "rVgOBIXTVC7q",
        "outputId": "6751f434-e61e-4dea-d063-cc4b53da686a"
      },
      "execution_count": 11,
      "outputs": [
        {
          "output_type": "stream",
          "name": "stderr",
          "text": [
            "/usr/local/lib/python3.9/dist-packages/torchvision/models/_utils.py:208: UserWarning: The parameter 'pretrained' is deprecated since 0.13 and may be removed in the future, please use 'weights' instead.\n",
            "  warnings.warn(\n",
            "/usr/local/lib/python3.9/dist-packages/torchvision/models/_utils.py:223: UserWarning: Arguments other than a weight enum or `None` for 'weights' are deprecated since 0.13 and may be removed in the future. The current behavior is equivalent to passing `weights=ResNet50_Weights.IMAGENET1K_V1`. You can also use `weights=ResNet50_Weights.DEFAULT` to get the most up-to-date weights.\n",
            "  warnings.warn(msg)\n"
          ]
        },
        {
          "output_type": "stream",
          "name": "stdout",
          "text": [
            "Predicted class: notumor\n",
            "tensor([[0.0000, 0.0140, 0.9860, 0.0000]])\n"
          ]
        }
      ]
    },
    {
      "cell_type": "code",
      "source": [
        "# Import/install Gradio \n",
        "try:\n",
        "    import gradio as gr\n",
        "except: \n",
        "    !pip -q install gradio\n",
        "    import gradio as gr\n",
        "    \n",
        "print(f\"Gradio version: {gr.__version__}\")"
      ],
      "metadata": {
        "colab": {
          "base_uri": "https://localhost:8080/"
        },
        "id": "5LaVfm19YmiU",
        "outputId": "d7f96369-a130-4578-b48d-d6d72a9e99d3"
      },
      "execution_count": 12,
      "outputs": [
        {
          "output_type": "stream",
          "name": "stdout",
          "text": [
            "\u001b[2K     \u001b[90m━━━━━━━━━━━━━━━━━━━━━━━━━━━━━━━━━━━━━━━━\u001b[0m \u001b[32m17.3/17.3 MB\u001b[0m \u001b[31m76.9 MB/s\u001b[0m eta \u001b[36m0:00:00\u001b[0m\n",
            "\u001b[2K     \u001b[90m━━━━━━━━━━━━━━━━━━━━━━━━━━━━━━━━━━━━━━━━\u001b[0m \u001b[32m1.0/1.0 MB\u001b[0m \u001b[31m63.1 MB/s\u001b[0m eta \u001b[36m0:00:00\u001b[0m\n",
            "\u001b[2K     \u001b[90m━━━━━━━━━━━━━━━━━━━━━━━━━━━━━━━━━━━━━━━━\u001b[0m \u001b[32m57.0/57.0 kB\u001b[0m \u001b[31m7.1 MB/s\u001b[0m eta \u001b[36m0:00:00\u001b[0m\n",
            "\u001b[2K     \u001b[90m━━━━━━━━━━━━━━━━━━━━━━━━━━━━━━━━━━━━━━\u001b[0m \u001b[32m200.1/200.1 kB\u001b[0m \u001b[31m24.1 MB/s\u001b[0m eta \u001b[36m0:00:00\u001b[0m\n",
            "\u001b[2K     \u001b[90m━━━━━━━━━━━━━━━━━━━━━━━━━━━━━━━━━━━━━━━━\u001b[0m \u001b[32m75.3/75.3 kB\u001b[0m \u001b[31m8.3 MB/s\u001b[0m eta \u001b[36m0:00:00\u001b[0m\n",
            "\u001b[2K     \u001b[90m━━━━━━━━━━━━━━━━━━━━━━━━━━━━━━━━━━━━━━━━\u001b[0m \u001b[32m57.8/57.8 kB\u001b[0m \u001b[31m4.8 MB/s\u001b[0m eta \u001b[36m0:00:00\u001b[0m\n",
            "\u001b[2K     \u001b[90m━━━━━━━━━━━━━━━━━━━━━━━━━━━━━━━━━━━━━━━━\u001b[0m \u001b[32m50.5/50.5 kB\u001b[0m \u001b[31m6.0 MB/s\u001b[0m eta \u001b[36m0:00:00\u001b[0m\n",
            "\u001b[2K     \u001b[90m━━━━━━━━━━━━━━━━━━━━━━━━━━━━━━━━━━━━━━━━\u001b[0m \u001b[32m45.7/45.7 kB\u001b[0m \u001b[31m4.9 MB/s\u001b[0m eta \u001b[36m0:00:00\u001b[0m\n",
            "\u001b[2K     \u001b[90m━━━━━━━━━━━━━━━━━━━━━━━━━━━━━━━━━━━━━━\u001b[0m \u001b[32m140.5/140.5 kB\u001b[0m \u001b[31m17.3 MB/s\u001b[0m eta \u001b[36m0:00:00\u001b[0m\n",
            "\u001b[2K     \u001b[90m━━━━━━━━━━━━━━━━━━━━━━━━━━━━━━━━━━━━━━\u001b[0m \u001b[32m129.7/129.7 kB\u001b[0m \u001b[31m15.8 MB/s\u001b[0m eta \u001b[36m0:00:00\u001b[0m\n",
            "\u001b[?25h  Preparing metadata (setup.py) ... \u001b[?25l\u001b[?25hdone\n",
            "\u001b[2K     \u001b[90m━━━━━━━━━━━━━━━━━━━━━━━━━━━━━━━━━━━━━━\u001b[0m \u001b[32m286.2/286.2 kB\u001b[0m \u001b[31m28.9 MB/s\u001b[0m eta \u001b[36m0:00:00\u001b[0m\n",
            "\u001b[2K     \u001b[90m━━━━━━━━━━━━━━━━━━━━━━━━━━━━━━━━━━━━━━\u001b[0m \u001b[32m158.8/158.8 kB\u001b[0m \u001b[31m18.8 MB/s\u001b[0m eta \u001b[36m0:00:00\u001b[0m\n",
            "\u001b[2K     \u001b[90m━━━━━━━━━━━━━━━━━━━━━━━━━━━━━━━━━━━━━━\u001b[0m \u001b[32m114.2/114.2 kB\u001b[0m \u001b[31m13.3 MB/s\u001b[0m eta \u001b[36m0:00:00\u001b[0m\n",
            "\u001b[2K     \u001b[90m━━━━━━━━━━━━━━━━━━━━━━━━━━━━━━━━━━━━━━━\u001b[0m \u001b[32m269.3/269.3 kB\u001b[0m \u001b[31m8.2 MB/s\u001b[0m eta \u001b[36m0:00:00\u001b[0m\n",
            "\u001b[2K     \u001b[90m━━━━━━━━━━━━━━━━━━━━━━━━━━━━━━━━━━━━━━━━\u001b[0m \u001b[32m66.9/66.9 kB\u001b[0m \u001b[31m7.0 MB/s\u001b[0m eta \u001b[36m0:00:00\u001b[0m\n",
            "\u001b[2K     \u001b[90m━━━━━━━━━━━━━━━━━━━━━━━━━━━━━━━━━━━━━━━━\u001b[0m \u001b[32m70.6/70.6 kB\u001b[0m \u001b[31m5.8 MB/s\u001b[0m eta \u001b[36m0:00:00\u001b[0m\n",
            "\u001b[2K     \u001b[90m━━━━━━━━━━━━━━━━━━━━━━━━━━━━━━━━━━━━━━━━\u001b[0m \u001b[32m58.3/58.3 kB\u001b[0m \u001b[31m6.7 MB/s\u001b[0m eta \u001b[36m0:00:00\u001b[0m\n",
            "\u001b[?25h  Building wheel for ffmpy (setup.py) ... \u001b[?25l\u001b[?25hdone\n",
            "Gradio version: 3.27.0\n"
          ]
        }
      ]
    },
    {
      "cell_type": "code",
      "source": [
        "import gradio as gr\n",
        "import torch\n",
        "from torchvision import models, transforms\n",
        "from PIL import Image\n",
        "\n",
        "# Load the state_dict\n",
        "state_dict = torch.load('/content/gdrive/MyDrive/Contrast_dataset_final-20230403T102414Z-001/Model/resnetsoftmax2.pt', map_location=torch.device('cpu'))\n",
        "\n",
        "# Initialize a new instance of the resnet50 model\n",
        "model_ft = models.resnet50(pretrained=True)\n",
        "\n",
        "# Replace the final fully connected layer with a new one\n",
        "num_ftrs = model_ft.fc.in_features\n",
        "model_ft.fc = torch.nn.Linear(num_ftrs, 4)\n",
        "\n",
        "# Load the state_dict into the new model instance\n",
        "model_ft.load_state_dict(state_dict)\n",
        "\n",
        "# Set the model to evaluation mode\n",
        "model_ft.eval()\n",
        "\n",
        "# Define the function to run inference on an image\n",
        "def predict_tumor(image):\n",
        "    # Load the image and apply the required transformations\n",
        "    image_transforms = transforms.Compose([\n",
        "        transforms.Resize(256),\n",
        "        transforms.CenterCrop(224),\n",
        "        transforms.ToTensor(),\n",
        "        transforms.Normalize([0.485, 0.456, 0.406], [0.229, 0.224, 0.225])])\n",
        "    image = Image.fromarray(image.astype('uint8'), 'RGB')\n",
        "    image = image_transforms(image)\n",
        "    image = image.unsqueeze(0)  # Add batch dimension\n",
        "\n",
        "    # Run inference on the image\n",
        "    with torch.no_grad():\n",
        "        outputs = model_ft(image)\n",
        "        _, predicted = torch.max(outputs, 1)\n",
        "\n",
        "    # Return the predicted class label\n",
        "    return classes[predicted.item()]\n",
        "\n",
        "# Define the Gradio interface\n",
        "inputs = gr.inputs.Image()\n",
        "outputs = gr.outputs.Label()\n",
        "interface = gr.Interface(fn=predict_tumor, inputs=inputs, outputs=outputs)\n",
        "\n",
        "# Launch the Gradio interface\n",
        "interface.launch()\n"
      ],
      "metadata": {
        "colab": {
          "base_uri": "https://localhost:8080/",
          "height": 845
        },
        "id": "AvyorGTeYkq9",
        "outputId": "6382b693-2bb6-4bcb-8ceb-b49e87ffb200"
      },
      "execution_count": 13,
      "outputs": [
        {
          "output_type": "stream",
          "name": "stderr",
          "text": [
            "/usr/local/lib/python3.9/dist-packages/torchvision/models/_utils.py:208: UserWarning: The parameter 'pretrained' is deprecated since 0.13 and may be removed in the future, please use 'weights' instead.\n",
            "  warnings.warn(\n",
            "/usr/local/lib/python3.9/dist-packages/torchvision/models/_utils.py:223: UserWarning: Arguments other than a weight enum or `None` for 'weights' are deprecated since 0.13 and may be removed in the future. The current behavior is equivalent to passing `weights=ResNet50_Weights.IMAGENET1K_V1`. You can also use `weights=ResNet50_Weights.DEFAULT` to get the most up-to-date weights.\n",
            "  warnings.warn(msg)\n",
            "/usr/local/lib/python3.9/dist-packages/gradio/inputs.py:257: UserWarning: Usage of gradio.inputs is deprecated, and will not be supported in the future, please import your component from gradio.components\n",
            "  warnings.warn(\n",
            "/usr/local/lib/python3.9/dist-packages/gradio/deprecation.py:40: UserWarning: `optional` parameter is deprecated, and it has no effect\n",
            "  warnings.warn(value)\n",
            "/usr/local/lib/python3.9/dist-packages/gradio/outputs.py:197: UserWarning: Usage of gradio.outputs is deprecated, and will not be supported in the future, please import your components from gradio.components\n",
            "  warnings.warn(\n",
            "/usr/local/lib/python3.9/dist-packages/gradio/deprecation.py:40: UserWarning: The 'type' parameter has been deprecated. Use the Number component instead.\n",
            "  warnings.warn(value)\n"
          ]
        },
        {
          "output_type": "stream",
          "name": "stdout",
          "text": [
            "Colab notebook detected. To show errors in colab notebook, set debug=True in launch()\n",
            "Note: opening Chrome Inspector may crash demo inside Colab notebooks.\n",
            "\n",
            "To create a public link, set `share=True` in `launch()`.\n"
          ]
        },
        {
          "output_type": "display_data",
          "data": {
            "text/plain": [
              "<IPython.core.display.Javascript object>"
            ],
            "application/javascript": [
              "(async (port, path, width, height, cache, element) => {\n",
              "                        if (!google.colab.kernel.accessAllowed && !cache) {\n",
              "                            return;\n",
              "                        }\n",
              "                        element.appendChild(document.createTextNode(''));\n",
              "                        const url = await google.colab.kernel.proxyPort(port, {cache});\n",
              "\n",
              "                        const external_link = document.createElement('div');\n",
              "                        external_link.innerHTML = `\n",
              "                            <div style=\"font-family: monospace; margin-bottom: 0.5rem\">\n",
              "                                Running on <a href=${new URL(path, url).toString()} target=\"_blank\">\n",
              "                                    https://localhost:${port}${path}\n",
              "                                </a>\n",
              "                            </div>\n",
              "                        `;\n",
              "                        element.appendChild(external_link);\n",
              "\n",
              "                        const iframe = document.createElement('iframe');\n",
              "                        iframe.src = new URL(path, url).toString();\n",
              "                        iframe.height = height;\n",
              "                        iframe.allow = \"autoplay; camera; microphone; clipboard-read; clipboard-write;\"\n",
              "                        iframe.width = width;\n",
              "                        iframe.style.border = 0;\n",
              "                        element.appendChild(iframe);\n",
              "                    })(7860, \"/\", \"100%\", 500, false, window.element)"
            ]
          },
          "metadata": {}
        },
        {
          "output_type": "execute_result",
          "data": {
            "text/plain": []
          },
          "metadata": {},
          "execution_count": 13
        }
      ]
    },
    {
      "cell_type": "code",
      "source": [
        "model_ft.to('cpu')\n",
        "next(iter(model_ft.parameters())).device"
      ],
      "metadata": {
        "colab": {
          "base_uri": "https://localhost:8080/"
        },
        "id": "7NCk8AHrZDzh",
        "outputId": "42ee47aa-9b85-4acb-cd53-a50751b76533"
      },
      "execution_count": 14,
      "outputs": [
        {
          "output_type": "execute_result",
          "data": {
            "text/plain": [
              "device(type='cpu')"
            ]
          },
          "metadata": {},
          "execution_count": 14
        }
      ]
    },
    {
      "cell_type": "code",
      "source": [
        "from typing import Tuple, Dict\n",
        "import time\n",
        "\n",
        "def predict(img) -> Tuple[Dict, float]:\n",
        "  \n",
        "  \"\"\"Transforms and performs a prediction on img and returns prediction and time taken\"\"\"\n",
        "\n",
        "  # Start the timer\n",
        "  start_time = time.time()\n",
        "\n",
        "  # Transform the target image and add the batch dimension\n",
        "  img = image_transforms(img).unsqueeze(0)\n",
        "\n",
        "  # Put the model into evaluation mode and turn on inference\n",
        "  model_ft.eval()\n",
        "  with torch.inference_mode():\n",
        "    # Pass the transformed image through the model and turn the prediction logits into prediction probabilities\n",
        "    pred_probs = torch.round(F.softmax(model_ft(img), dim = 1) * 1000) / 1000\n",
        "  \n",
        "  # Create a prediction label and prediction probability dictionary for each prediction class\n",
        "  pred_labels_and_probs = {classes[i]: float(pred_probs[0][i]) for i in range(len(classes))}\n",
        "\n",
        "  # Calculate the prediction time\n",
        "  pred_time = round(time.time() - start_time, 5)\n",
        "\n",
        "  # Return the prediction dictionary and prediction time\n",
        "  return pred_labels_and_probs, pred_time"
      ],
      "metadata": {
        "id": "VspVKetLZj8k"
      },
      "execution_count": 15,
      "outputs": []
    },
    {
      "cell_type": "code",
      "source": [
        "image = Image.open('/content/gdrive/MyDrive/Contrast_dataset_final-20230403T102414Z-001/Contrast_dataset_final/Te-no_0025.jpg')\n",
        "x, y = predict(image)\n",
        "print(x)\n",
        "print(y)"
      ],
      "metadata": {
        "colab": {
          "base_uri": "https://localhost:8080/"
        },
        "id": "DvIVKztYdCzf",
        "outputId": "bd7d16a8-ecf1-4ad5-a74d-c5a3981109b2"
      },
      "execution_count": 16,
      "outputs": [
        {
          "output_type": "stream",
          "name": "stdout",
          "text": [
            "{'glioma': 0.0, 'meningioma': 0.014000000432133675, 'notumor': 0.9860000014305115, 'pituitory': 0.0}\n",
            "0.8108\n"
          ]
        }
      ]
    },
    {
      "cell_type": "code",
      "source": [
        "import random\n",
        "from PIL import Image\n",
        "from pathlib import Path\n",
        "\n",
        "# Get a list of all test image file paths\n",
        "#test_data_paths = list(Path('/content/gdrive/MyDrive/Brain_Tumor_Detection_3.0/Removing_extras_dataset/Validating').glob(\"*/*.jpg\"))\n",
        "test_data_paths=[\"/content/gdrive/MyDrive/Contrast_dataset_final-20230403T102414Z-001/Contrast_dataset_final/Te-gl_0036.jpg\",\n",
        "                 \"/content/gdrive/MyDrive/Contrast_dataset_final-20230403T102414Z-001/Contrast_dataset_final/Te-me_0015.jpg\",\n",
        "                 \"/content/gdrive/MyDrive/Contrast_dataset_final-20230403T102414Z-001/Contrast_dataset_final/Te-no_0025.jpg\"\n",
        "                 ]\n",
        "# Randomly select a test image \n",
        "random_image_path = random.sample(test_data_paths, k=1)[0]\n",
        "\n",
        "# Open the target image\n",
        "image = Image.open(random_image_path)\n",
        "print(f\"[INFO] Predicting on image at path: {random_image_path}\\n\")\n",
        "\n",
        "# Predict on the target image and print out the outputs\n",
        "pred_dict, pred_time = predict(img = image)\n",
        "print(f\"Prediction label and Probability dictionary: \\n{pred_dict}\")\n",
        "print(f\"Prediction time: {pred_time} seconds\")"
      ],
      "metadata": {
        "colab": {
          "base_uri": "https://localhost:8080/"
        },
        "id": "ErILJVG5doKy",
        "outputId": "7b5ab316-39c6-4966-884d-d2974171d2f9"
      },
      "execution_count": 18,
      "outputs": [
        {
          "output_type": "stream",
          "name": "stdout",
          "text": [
            "[INFO] Predicting on image at path: /content/gdrive/MyDrive/Contrast_dataset_final-20230403T102414Z-001/Contrast_dataset_final/Te-me_0015.jpg\n",
            "\n",
            "Prediction label and Probability dictionary: \n",
            "{'glioma': 0.0, 'meningioma': 0.996999979019165, 'notumor': 0.003000000026077032, 'pituitory': 0.0}\n",
            "Prediction time: 0.19852 seconds\n"
          ]
        }
      ]
    },
    {
      "cell_type": "code",
      "source": [
        "# Create a list of example inputs to out gradio app\n",
        "example_list = [[str(filepath)] for filepath in random.sample(test_data_paths, k=3)]\n",
        "example_list"
      ],
      "metadata": {
        "colab": {
          "base_uri": "https://localhost:8080/"
        },
        "id": "Q6tONT6QpZUH",
        "outputId": "a8aaf3b2-f5e8-48d3-b5f1-bca1a1d60025"
      },
      "execution_count": 19,
      "outputs": [
        {
          "output_type": "execute_result",
          "data": {
            "text/plain": [
              "[['/content/gdrive/MyDrive/Contrast_dataset_final-20230403T102414Z-001/Contrast_dataset_final/Te-me_0015.jpg'],\n",
              " ['/content/gdrive/MyDrive/Contrast_dataset_final-20230403T102414Z-001/Contrast_dataset_final/Te-no_0025.jpg'],\n",
              " ['/content/gdrive/MyDrive/Contrast_dataset_final-20230403T102414Z-001/Contrast_dataset_final/Te-gl_0036.jpg']]"
            ]
          },
          "metadata": {},
          "execution_count": 19
        }
      ]
    },
    {
      "cell_type": "code",
      "source": [
        "import gradio as gr\n",
        "\n",
        "# Create title, description and article strings\n",
        "title = \"🧠Brain Tumor Detector🧠\"\n",
        "description = \"A Convolution Neural Network computer vision model to classify Brain Tumor Images\"\n",
        "article = \"Created at [Brain_Tumor_Detection](https://colab.research.google.com/drive/1yU-VMpPau6xdmq32fITNcV7r1QF8M-YS?usp=sharing).\"\\\n",
        "\"<h1>Overview</h1>\"\n",
        "\n",
        "# Create the Gradio demo\n",
        "demo = gr.Interface(fn=predict, # mapping function from input to output\n",
        "                    inputs=gr.Image(type=\"pil\"), # what are the inputs?\n",
        "                    outputs=[gr.Label(num_top_classes=4, label=\"Predictions\"), # what are the outputs?\n",
        "                             gr.Number(label=\"Prediction time (s)\")], # our fn has two outputs, therefore we have two outputs\n",
        "                    examples=example_list, \n",
        "                    title=title,\n",
        "                    description=description,\n",
        "                    article=article\n",
        "                    )\n",
        "\n",
        "# Launch the demo!\n",
        "demo.launch(debug=False, # print errors locally?\n",
        "            share=True) # generate a publically shareable URL?"
      ],
      "metadata": {
        "colab": {
          "base_uri": "https://localhost:8080/",
          "height": 591
        },
        "id": "LhH-zswTqJjh",
        "outputId": "ec98eb7e-f4b7-4adc-db52-afdb003eda47"
      },
      "execution_count": 20,
      "outputs": [
        {
          "output_type": "stream",
          "name": "stdout",
          "text": [
            "Colab notebook detected. To show errors in colab notebook, set debug=True in launch()\n",
            "Running on public URL: https://befdd40848cd5d3b43.gradio.live\n",
            "\n",
            "This share link expires in 72 hours. For free permanent hosting and GPU upgrades (NEW!), check out Spaces: https://huggingface.co/spaces\n"
          ]
        },
        {
          "output_type": "display_data",
          "data": {
            "text/plain": [
              "<IPython.core.display.HTML object>"
            ],
            "text/html": [
              "<div><iframe src=\"https://befdd40848cd5d3b43.gradio.live\" width=\"100%\" height=\"500\" allow=\"autoplay; camera; microphone; clipboard-read; clipboard-write;\" frameborder=\"0\" allowfullscreen></iframe></div>"
            ]
          },
          "metadata": {}
        },
        {
          "output_type": "execute_result",
          "data": {
            "text/plain": []
          },
          "metadata": {},
          "execution_count": 20
        }
      ]
    }
  ]
}